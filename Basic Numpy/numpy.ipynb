{
 "cells": [
  {
   "cell_type": "markdown",
   "id": "4c5aad17-c4c0-4652-bbb6-f34c57af16b3",
   "metadata": {},
   "source": [
    "# Start"
   ]
  },
  {
   "cell_type": "code",
   "execution_count": 1,
   "id": "c7e9078d-a80f-4001-bc07-264a2e52def6",
   "metadata": {},
   "outputs": [],
   "source": [
    "import numpy as np"
   ]
  },
  {
   "cell_type": "markdown",
   "id": "42369b1e",
   "metadata": {},
   "source": []
  },
  {
   "cell_type": "markdown",
   "id": "978b950b-b8e1-4626-9889-48ab5a709141",
   "metadata": {},
   "source": [
    "**1D array**"
   ]
  },
  {
   "cell_type": "code",
   "execution_count": 2,
   "id": "057fc69d-ff21-494f-8b98-014e8fb33766",
   "metadata": {},
   "outputs": [],
   "source": [
    "myarr1 = np.array([3,6,9,12], np.int64)  #1D array"
   ]
  },
  {
   "cell_type": "code",
   "execution_count": 3,
   "id": "8a6f54ec-d392-4fb4-9466-be551a169c5c",
   "metadata": {},
   "outputs": [
    {
     "data": {
      "text/plain": [
       "array([ 3,  6,  9, 12], dtype=int64)"
      ]
     },
     "execution_count": 3,
     "metadata": {},
     "output_type": "execute_result"
    }
   ],
   "source": [
    "myarr1"
   ]
  },
  {
   "cell_type": "code",
   "execution_count": 4,
   "id": "208b5f9b-d145-4f3f-a730-aeadfe121188",
   "metadata": {},
   "outputs": [
    {
     "data": {
      "text/plain": [
       "3"
      ]
     },
     "execution_count": 4,
     "metadata": {},
     "output_type": "execute_result"
    }
   ],
   "source": [
    "myarr1[0]"
   ]
  },
  {
   "cell_type": "markdown",
   "id": "25b47aae-8131-4f56-b551-907479c8d195",
   "metadata": {},
   "source": [
    "**2D array**"
   ]
  },
  {
   "cell_type": "code",
   "execution_count": 5,
   "id": "b4673047-b3d0-4e42-9a2a-7a27c62dee6f",
   "metadata": {},
   "outputs": [],
   "source": [
    "myarr2 = np.array([[1,5,3,4]], np.int64) #2D array"
   ]
  },
  {
   "cell_type": "code",
   "execution_count": 6,
   "id": "3701300e-fcab-43ce-8e94-83f8e127807d",
   "metadata": {},
   "outputs": [
    {
     "data": {
      "text/plain": [
       "array([[1, 5, 3, 4]], dtype=int64)"
      ]
     },
     "execution_count": 6,
     "metadata": {},
     "output_type": "execute_result"
    }
   ],
   "source": [
    "myarr2"
   ]
  },
  {
   "cell_type": "code",
   "execution_count": 7,
   "id": "64521593-34e8-4797-9227-271f63a6e2f1",
   "metadata": {},
   "outputs": [
    {
     "data": {
      "text/plain": [
       "5"
      ]
     },
     "execution_count": 7,
     "metadata": {},
     "output_type": "execute_result"
    }
   ],
   "source": [
    "myarr2[0][1]"
   ]
  },
  {
   "cell_type": "markdown",
   "id": "9474a96e-152c-4532-9c9b-9969ef6fc988",
   "metadata": {},
   "source": [
    "**Info of an array**"
   ]
  },
  {
   "cell_type": "code",
   "execution_count": 8,
   "id": "2bbdd8de-2c85-4487-8b02-738449da0970",
   "metadata": {},
   "outputs": [
    {
     "data": {
      "text/plain": [
       "(4,)"
      ]
     },
     "execution_count": 8,
     "metadata": {},
     "output_type": "execute_result"
    }
   ],
   "source": [
    "myarr1.shape "
   ]
  },
  {
   "cell_type": "code",
   "execution_count": 9,
   "id": "a45c3a94-f379-42fa-91f3-173e01049b2d",
   "metadata": {},
   "outputs": [
    {
     "data": {
      "text/plain": [
       "(1, 4)"
      ]
     },
     "execution_count": 9,
     "metadata": {},
     "output_type": "execute_result"
    }
   ],
   "source": [
    "myarr2.shape"
   ]
  },
  {
   "cell_type": "code",
   "execution_count": 10,
   "id": "6a93d287-6d57-4ec5-809b-e68a1275ce84",
   "metadata": {},
   "outputs": [
    {
     "data": {
      "text/plain": [
       "dtype('int64')"
      ]
     },
     "execution_count": 10,
     "metadata": {},
     "output_type": "execute_result"
    }
   ],
   "source": [
    "myarr1.dtype"
   ]
  },
  {
   "cell_type": "code",
   "execution_count": 11,
   "id": "85ab5e84-b874-40c3-81ea-ffd2f0934f6f",
   "metadata": {},
   "outputs": [
    {
     "data": {
      "text/plain": [
       "4"
      ]
     },
     "execution_count": 11,
     "metadata": {},
     "output_type": "execute_result"
    }
   ],
   "source": [
    "myarr2.size"
   ]
  },
  {
   "cell_type": "code",
   "execution_count": 12,
   "id": "00983ed4-5399-4f37-9683-238e6cc5dea3",
   "metadata": {},
   "outputs": [
    {
     "data": {
      "text/plain": [
       "2"
      ]
     },
     "execution_count": 12,
     "metadata": {},
     "output_type": "execute_result"
    }
   ],
   "source": [
    "myarr2.ndim"
   ]
  },
  {
   "cell_type": "code",
   "execution_count": 13,
   "id": "45505cb4-7755-42d8-a993-f381d7f55188",
   "metadata": {},
   "outputs": [
    {
     "data": {
      "text/plain": [
       "32"
      ]
     },
     "execution_count": 13,
     "metadata": {},
     "output_type": "execute_result"
    }
   ],
   "source": [
    "myarr2.nbytes"
   ]
  },
  {
   "cell_type": "markdown",
   "id": "ddd42f5e-f156-4332-a4a8-8d418fe5a132",
   "metadata": {},
   "source": [
    "**Modification of an array**"
   ]
  },
  {
   "cell_type": "code",
   "execution_count": 14,
   "id": "f734bc74-ea35-4d5b-b4a3-c65bd696491d",
   "metadata": {},
   "outputs": [],
   "source": [
    "myarr1[0]=1"
   ]
  },
  {
   "cell_type": "code",
   "execution_count": 15,
   "id": "4d27cc72-765b-4c3b-8022-ea01b66093ac",
   "metadata": {},
   "outputs": [
    {
     "data": {
      "text/plain": [
       "array([ 1,  6,  9, 12], dtype=int64)"
      ]
     },
     "execution_count": 15,
     "metadata": {},
     "output_type": "execute_result"
    }
   ],
   "source": [
    "myarr1"
   ]
  },
  {
   "cell_type": "code",
   "execution_count": 16,
   "id": "336fa050-520c-469d-a76e-b3668c68bd95",
   "metadata": {},
   "outputs": [],
   "source": [
    "myarr2[0][3]=5"
   ]
  },
  {
   "cell_type": "code",
   "execution_count": 17,
   "id": "691e7f5d-ed01-4e78-82d4-d3a29599e351",
   "metadata": {},
   "outputs": [
    {
     "data": {
      "text/plain": [
       "array([[1, 5, 3, 5]], dtype=int64)"
      ]
     },
     "execution_count": 17,
     "metadata": {},
     "output_type": "execute_result"
    }
   ],
   "source": [
    "myarr2"
   ]
  },
  {
   "cell_type": "markdown",
   "id": "ffe61bc1-e2c6-4fed-a781-490a553186bb",
   "metadata": {},
   "source": [
    "**Array creation from other python structures**"
   ]
  },
  {
   "cell_type": "markdown",
   "id": "1458f5da-9b72-4f63-864e-81b8c3833c3b",
   "metadata": {},
   "source": [
    "***From List***"
   ]
  },
  {
   "cell_type": "code",
   "execution_count": 18,
   "id": "6dc330fb-21a1-4998-be37-29949e8dce11",
   "metadata": {},
   "outputs": [],
   "source": [
    "listArray = np.array([[1,2,3],[4,5,6],[7,8,9]])"
   ]
  },
  {
   "cell_type": "code",
   "execution_count": 19,
   "id": "5f893806-b3eb-4f4b-9622-46e9fa3ca548",
   "metadata": {},
   "outputs": [
    {
     "data": {
      "text/plain": [
       "array([[1, 2, 3],\n",
       "       [4, 5, 6],\n",
       "       [7, 8, 9]])"
      ]
     },
     "execution_count": 19,
     "metadata": {},
     "output_type": "execute_result"
    }
   ],
   "source": [
    "listArray"
   ]
  },
  {
   "cell_type": "code",
   "execution_count": 20,
   "id": "5a8d50bd-ff11-49b8-9e24-85e6fe3b17c8",
   "metadata": {},
   "outputs": [
    {
     "data": {
      "text/plain": [
       "dtype('int32')"
      ]
     },
     "execution_count": 20,
     "metadata": {},
     "output_type": "execute_result"
    }
   ],
   "source": [
    "listArray.dtype"
   ]
  },
  {
   "cell_type": "code",
   "execution_count": 21,
   "id": "55fd1df1-7af5-4846-b7a7-5d85cac7cb90",
   "metadata": {},
   "outputs": [
    {
     "data": {
      "text/plain": [
       "(3, 3)"
      ]
     },
     "execution_count": 21,
     "metadata": {},
     "output_type": "execute_result"
    }
   ],
   "source": [
    "listArray.shape"
   ]
  },
  {
   "cell_type": "code",
   "execution_count": 22,
   "id": "fd754f24-ad0b-470b-b7d9-0626af7af259",
   "metadata": {},
   "outputs": [
    {
     "data": {
      "text/plain": [
       "9"
      ]
     },
     "execution_count": 22,
     "metadata": {},
     "output_type": "execute_result"
    }
   ],
   "source": [
    "listArray.size"
   ]
  },
  {
   "cell_type": "markdown",
   "id": "b57526c8-4163-4eb9-a317-70699f97e03f",
   "metadata": {},
   "source": [
    "***From Set***"
   ]
  },
  {
   "cell_type": "code",
   "execution_count": 23,
   "id": "3bc7333d-a47d-4071-b3e3-d4cdaf076aeb",
   "metadata": {},
   "outputs": [],
   "source": [
    "setArray = np.array({1,2,2,3})"
   ]
  },
  {
   "cell_type": "code",
   "execution_count": 24,
   "id": "b1380077-9d08-4ea3-8614-e5ec29073e1d",
   "metadata": {},
   "outputs": [
    {
     "data": {
      "text/plain": [
       "array({1, 2, 3}, dtype=object)"
      ]
     },
     "execution_count": 24,
     "metadata": {},
     "output_type": "execute_result"
    }
   ],
   "source": [
    "setArray"
   ]
  },
  {
   "cell_type": "markdown",
   "id": "90f480fa-601a-470b-b9da-b182d704dde0",
   "metadata": {},
   "source": [
    "**Intrensic Numpy array creation objects**"
   ]
  },
  {
   "cell_type": "markdown",
   "id": "1fb4f0e3-181f-4f88-b597-7551c7552a73",
   "metadata": {},
   "source": [
    "***Zero Array***"
   ]
  },
  {
   "cell_type": "code",
   "execution_count": 25,
   "id": "843a1dd2-ac7a-4cd1-a13b-a111b26a6620",
   "metadata": {},
   "outputs": [],
   "source": [
    "zeros = np.zeros([3,3])"
   ]
  },
  {
   "cell_type": "code",
   "execution_count": 26,
   "id": "b1532b62-50d6-459a-82c7-d4b133536c7f",
   "metadata": {},
   "outputs": [
    {
     "data": {
      "text/plain": [
       "array([[0., 0., 0.],\n",
       "       [0., 0., 0.],\n",
       "       [0., 0., 0.]])"
      ]
     },
     "execution_count": 26,
     "metadata": {},
     "output_type": "execute_result"
    }
   ],
   "source": [
    "zeros"
   ]
  },
  {
   "cell_type": "code",
   "execution_count": 27,
   "id": "163ff156-64ea-42b9-aee9-08fde40a5537",
   "metadata": {},
   "outputs": [
    {
     "data": {
      "text/plain": [
       "dtype('float64')"
      ]
     },
     "execution_count": 27,
     "metadata": {},
     "output_type": "execute_result"
    }
   ],
   "source": [
    "zeros.dtype"
   ]
  },
  {
   "cell_type": "markdown",
   "id": "6e463bd3-9313-43ab-bd2d-6bd6e9b52b10",
   "metadata": {},
   "source": [
    "***Array using Range Function***"
   ]
  },
  {
   "cell_type": "code",
   "execution_count": 28,
   "id": "bd9b909a-45af-4245-b189-aadc2bab6e19",
   "metadata": {},
   "outputs": [],
   "source": [
    "rngArray = np.arange(15) #create a numpy array"
   ]
  },
  {
   "cell_type": "code",
   "execution_count": 29,
   "id": "775b9356-f9c8-453b-98ee-100de68427c8",
   "metadata": {},
   "outputs": [
    {
     "data": {
      "text/plain": [
       "array([ 0,  1,  2,  3,  4,  5,  6,  7,  8,  9, 10, 11, 12, 13, 14])"
      ]
     },
     "execution_count": 29,
     "metadata": {},
     "output_type": "execute_result"
    }
   ],
   "source": [
    "rngArray"
   ]
  },
  {
   "cell_type": "markdown",
   "id": "7d1d0c3b-a5b5-49d5-a4e6-f90ba05415a2",
   "metadata": {},
   "source": [
    "***Array using Linspace Function***   *(Same Distance Between Elements)*"
   ]
  },
  {
   "cell_type": "code",
   "execution_count": 30,
   "id": "583761d9-962d-4b10-b1d9-301d1a92ca52",
   "metadata": {},
   "outputs": [],
   "source": [
    "lnArray = np.linspace(1,10,5)   #(First element,Last Element,Element Number)"
   ]
  },
  {
   "cell_type": "code",
   "execution_count": 31,
   "id": "f582f46d-2af9-4105-9bad-d0adb8ec3843",
   "metadata": {},
   "outputs": [
    {
     "data": {
      "text/plain": [
       "array([ 1.  ,  3.25,  5.5 ,  7.75, 10.  ])"
      ]
     },
     "execution_count": 31,
     "metadata": {},
     "output_type": "execute_result"
    }
   ],
   "source": [
    "lnArray"
   ]
  },
  {
   "cell_type": "markdown",
   "id": "91aedfec-3a4d-4a36-b57b-53b61958384a",
   "metadata": {},
   "source": [
    "***Empty Array***"
   ]
  },
  {
   "cell_type": "code",
   "execution_count": 32,
   "id": "8515e623-ce3b-488e-aa29-d27ad1c24f23",
   "metadata": {},
   "outputs": [],
   "source": [
    "emptyArray = np.empty([3,3]) # Empty array with random values"
   ]
  },
  {
   "cell_type": "code",
   "execution_count": 33,
   "id": "ecb6ca88-43f2-4ea4-ad52-9628af884520",
   "metadata": {},
   "outputs": [
    {
     "data": {
      "text/plain": [
       "array([[0., 0., 0.],\n",
       "       [0., 0., 0.],\n",
       "       [0., 0., 0.]])"
      ]
     },
     "execution_count": 33,
     "metadata": {},
     "output_type": "execute_result"
    }
   ],
   "source": [
    "emptyArray"
   ]
  },
  {
   "cell_type": "markdown",
   "id": "f6201cf2-48ac-469a-8fbc-6ea5cd94d0ed",
   "metadata": {},
   "source": [
    "***Empty Like***"
   ]
  },
  {
   "cell_type": "code",
   "execution_count": 99,
   "id": "b9114c07-7007-43c8-aa3e-5120e4039b3b",
   "metadata": {},
   "outputs": [],
   "source": [
    "empty_like = np.empty_like(myarr1) #Empty any previous array"
   ]
  },
  {
   "cell_type": "code",
   "execution_count": 100,
   "id": "1dbf546e-55d0-4de4-be71-c0549b1732b6",
   "metadata": {},
   "outputs": [
    {
     "data": {
      "text/plain": [
       "array([       4294967296, 23925768157396992,              1084,\n",
       "         140720308486912], dtype=int64)"
      ]
     },
     "execution_count": 100,
     "metadata": {},
     "output_type": "execute_result"
    }
   ],
   "source": [
    "empty_like"
   ]
  },
  {
   "cell_type": "markdown",
   "id": "b463a475-8bdd-4694-aa59-d02a6bd0140e",
   "metadata": {},
   "source": [
    "***Identity Array***"
   ]
  },
  {
   "cell_type": "code",
   "execution_count": 36,
   "id": "4ddafd32-1ca2-4e22-aabc-2672c90cf22f",
   "metadata": {},
   "outputs": [],
   "source": [
    "ideArray = np.identity(5)"
   ]
  },
  {
   "cell_type": "code",
   "execution_count": 37,
   "id": "23269e5d-5728-4a6d-92d1-9beb49685ea8",
   "metadata": {},
   "outputs": [
    {
     "data": {
      "text/plain": [
       "array([[1., 0., 0., 0., 0.],\n",
       "       [0., 1., 0., 0., 0.],\n",
       "       [0., 0., 1., 0., 0.],\n",
       "       [0., 0., 0., 1., 0.],\n",
       "       [0., 0., 0., 0., 1.]])"
      ]
     },
     "execution_count": 37,
     "metadata": {},
     "output_type": "execute_result"
    }
   ],
   "source": [
    "ideArray"
   ]
  },
  {
   "cell_type": "code",
   "execution_count": 38,
   "id": "dca3d4bc-0005-4936-8039-af8e8ffb9bdc",
   "metadata": {},
   "outputs": [
    {
     "data": {
      "text/plain": [
       "(5, 5)"
      ]
     },
     "execution_count": 38,
     "metadata": {},
     "output_type": "execute_result"
    }
   ],
   "source": [
    "ideArray.shape"
   ]
  },
  {
   "cell_type": "markdown",
   "id": "437ef3f5-4202-4f68-b01c-a2ae74c07191",
   "metadata": {},
   "source": [
    "# Functions of array"
   ]
  },
  {
   "cell_type": "markdown",
   "id": "cf333771-f81d-454f-b055-8063f5a7696d",
   "metadata": {},
   "source": [
    "***Reshape function***"
   ]
  },
  {
   "cell_type": "code",
   "execution_count": 39,
   "id": "91b6ca2d-0a24-435b-919a-a136e34f80ff",
   "metadata": {},
   "outputs": [],
   "source": [
    "arr = np.arange(30)"
   ]
  },
  {
   "cell_type": "code",
   "execution_count": 40,
   "id": "499681ca-e52f-4803-b0ee-4431c270ebe5",
   "metadata": {},
   "outputs": [
    {
     "data": {
      "text/plain": [
       "array([ 0,  1,  2,  3,  4,  5,  6,  7,  8,  9, 10, 11, 12, 13, 14, 15, 16,\n",
       "       17, 18, 19, 20, 21, 22, 23, 24, 25, 26, 27, 28, 29])"
      ]
     },
     "execution_count": 40,
     "metadata": {},
     "output_type": "execute_result"
    }
   ],
   "source": [
    "arr"
   ]
  },
  {
   "cell_type": "code",
   "execution_count": 41,
   "id": "7588e3c7-3d1c-4f94-a7e8-1029ee8d35e1",
   "metadata": {},
   "outputs": [],
   "source": [
    "reshapeArr = arr.reshape(5,6) # it doesnt change the actual array"
   ]
  },
  {
   "cell_type": "code",
   "execution_count": 42,
   "id": "ee635fb4-1b67-4680-ad03-71673a152377",
   "metadata": {},
   "outputs": [
    {
     "data": {
      "text/plain": [
       "array([ 0,  1,  2,  3,  4,  5,  6,  7,  8,  9, 10, 11, 12, 13, 14, 15, 16,\n",
       "       17, 18, 19, 20, 21, 22, 23, 24, 25, 26, 27, 28, 29])"
      ]
     },
     "execution_count": 42,
     "metadata": {},
     "output_type": "execute_result"
    }
   ],
   "source": [
    "arr # main array doesnt reshape"
   ]
  },
  {
   "cell_type": "code",
   "execution_count": 43,
   "id": "bc6acb42-3ad9-4db6-98dd-04527054fb9a",
   "metadata": {},
   "outputs": [
    {
     "data": {
      "text/plain": [
       "array([[ 0,  1,  2,  3,  4,  5],\n",
       "       [ 6,  7,  8,  9, 10, 11],\n",
       "       [12, 13, 14, 15, 16, 17],\n",
       "       [18, 19, 20, 21, 22, 23],\n",
       "       [24, 25, 26, 27, 28, 29]])"
      ]
     },
     "execution_count": 43,
     "metadata": {},
     "output_type": "execute_result"
    }
   ],
   "source": [
    "reshapeArr"
   ]
  },
  {
   "cell_type": "markdown",
   "id": "e35c04de-4252-41e4-b981-8ff6b27f2bbe",
   "metadata": {},
   "source": [
    "***Ravel Function***  (it just simplify the reshaped array)"
   ]
  },
  {
   "cell_type": "code",
   "execution_count": 44,
   "id": "d4f112a1-c808-4474-879e-8249c20799df",
   "metadata": {},
   "outputs": [],
   "source": [
    "ravelArr= np.ravel(reshapeArr)"
   ]
  },
  {
   "cell_type": "code",
   "execution_count": 45,
   "id": "a4876b61-b841-4033-aa5c-de705d9dfaee",
   "metadata": {},
   "outputs": [
    {
     "data": {
      "text/plain": [
       "array([ 0,  1,  2,  3,  4,  5,  6,  7,  8,  9, 10, 11, 12, 13, 14, 15, 16,\n",
       "       17, 18, 19, 20, 21, 22, 23, 24, 25, 26, 27, 28, 29])"
      ]
     },
     "execution_count": 45,
     "metadata": {},
     "output_type": "execute_result"
    }
   ],
   "source": [
    "ravelArr"
   ]
  },
  {
   "cell_type": "code",
   "execution_count": 46,
   "id": "e9deea4b-f6b7-42a3-8357-a752a0d771b5",
   "metadata": {},
   "outputs": [
    {
     "data": {
      "text/plain": [
       "array([[ 0,  1,  2,  3,  4,  5],\n",
       "       [ 6,  7,  8,  9, 10, 11],\n",
       "       [12, 13, 14, 15, 16, 17],\n",
       "       [18, 19, 20, 21, 22, 23],\n",
       "       [24, 25, 26, 27, 28, 29]])"
      ]
     },
     "execution_count": 46,
     "metadata": {},
     "output_type": "execute_result"
    }
   ],
   "source": [
    "reshapeArr"
   ]
  },
  {
   "cell_type": "code",
   "execution_count": 47,
   "id": "b4bf647d-123b-4752-b0e5-02c544f1592a",
   "metadata": {},
   "outputs": [
    {
     "data": {
      "text/plain": [
       "(30,)"
      ]
     },
     "execution_count": 47,
     "metadata": {},
     "output_type": "execute_result"
    }
   ],
   "source": [
    "ravelArr.shape"
   ]
  },
  {
   "cell_type": "markdown",
   "id": "9eb0c9b8-0e50-4959-9e65-5572f75c43fc",
   "metadata": {},
   "source": [
    "***Index of Max number*** "
   ]
  },
  {
   "cell_type": "code",
   "execution_count": 48,
   "id": "c05d7219-a0d4-4401-bc85-bad7c5f22db5",
   "metadata": {},
   "outputs": [],
   "source": [
    "maxArr1 = np.array([1,2,3,4,5])"
   ]
  },
  {
   "cell_type": "code",
   "execution_count": 49,
   "id": "c5557c83-de0e-4849-8fcb-2765aff41748",
   "metadata": {},
   "outputs": [
    {
     "data": {
      "text/plain": [
       "4"
      ]
     },
     "execution_count": 49,
     "metadata": {},
     "output_type": "execute_result"
    }
   ],
   "source": [
    "maxArr1.argmax() # Returns the index of max number"
   ]
  },
  {
   "cell_type": "code",
   "execution_count": 50,
   "id": "da345745-08af-4fa6-b291-49205a7d7a54",
   "metadata": {},
   "outputs": [],
   "source": [
    "maxArr2 = np.array([[13,11,20],[15,5,3],[17,27,19]]) # 2d array"
   ]
  },
  {
   "cell_type": "code",
   "execution_count": 51,
   "id": "f354be9d-da3c-4806-9e0f-e81a3b3e904c",
   "metadata": {},
   "outputs": [
    {
     "data": {
      "text/plain": [
       "7"
      ]
     },
     "execution_count": 51,
     "metadata": {},
     "output_type": "execute_result"
    }
   ],
   "source": [
    "maxArr2.argmax()"
   ]
  },
  {
   "cell_type": "markdown",
   "id": "afe8efe6-11c5-4f87-9a7c-81cb717714fd",
   "metadata": {},
   "source": [
    "***Index of Min Number***"
   ]
  },
  {
   "cell_type": "code",
   "execution_count": 52,
   "id": "dc4eb765-5fab-4a75-84c2-5739536a8600",
   "metadata": {},
   "outputs": [],
   "source": [
    "minArr1 = np.array([6,7,8,9,10])"
   ]
  },
  {
   "cell_type": "code",
   "execution_count": 53,
   "id": "a097f7d2-f747-4e0d-b3b0-69dd00a9444d",
   "metadata": {},
   "outputs": [
    {
     "data": {
      "text/plain": [
       "0"
      ]
     },
     "execution_count": 53,
     "metadata": {},
     "output_type": "execute_result"
    }
   ],
   "source": [
    "minArr1.argmin() # Returns the index of minimum number"
   ]
  },
  {
   "cell_type": "code",
   "execution_count": 54,
   "id": "f5f7eb28-2535-4fbf-8718-7947f9d4ecb3",
   "metadata": {},
   "outputs": [],
   "source": [
    "minArr2 = np.array([[13,11,12],[16,14,15],[19,17,18]])"
   ]
  },
  {
   "cell_type": "code",
   "execution_count": 55,
   "id": "6fb7ef03-6e6c-4b79-be84-8e87029d1fec",
   "metadata": {},
   "outputs": [
    {
     "data": {
      "text/plain": [
       "1"
      ]
     },
     "execution_count": 55,
     "metadata": {},
     "output_type": "execute_result"
    }
   ],
   "source": [
    "minArr2.argmin()"
   ]
  },
  {
   "cell_type": "markdown",
   "id": "cf8e2fff-b42d-47f5-aebf-04b30bd029a4",
   "metadata": {},
   "source": [
    "***Index of sorting array***"
   ]
  },
  {
   "cell_type": "code",
   "execution_count": 56,
   "id": "058579c6-cd15-4ee4-ac3d-ff4d8d37d9c6",
   "metadata": {},
   "outputs": [],
   "source": [
    "sortArr = np.array([3,21,4,6,1,66,7])"
   ]
  },
  {
   "cell_type": "code",
   "execution_count": 57,
   "id": "bdd7dd74-3844-467f-ae8d-e739270f79b2",
   "metadata": {},
   "outputs": [
    {
     "data": {
      "text/plain": [
       "array([4, 0, 2, 3, 6, 1, 5], dtype=int64)"
      ]
     },
     "execution_count": 57,
     "metadata": {},
     "output_type": "execute_result"
    }
   ],
   "source": [
    "sortArr.argsort()"
   ]
  },
  {
   "cell_type": "markdown",
   "id": "7e01dfb4-3079-4028-80e9-6ee081d8f0ae",
   "metadata": {},
   "source": [
    "***Find element***"
   ]
  },
  {
   "cell_type": "code",
   "execution_count": 58,
   "id": "7f5aa344-237f-4a16-93bb-a4c0ad391421",
   "metadata": {},
   "outputs": [],
   "source": [
    "findArr = np.array([[11,5,6],[8,9,10]])"
   ]
  },
  {
   "cell_type": "code",
   "execution_count": 59,
   "id": "1e3fbe04-e433-4797-b93d-bb7c16648b76",
   "metadata": {},
   "outputs": [
    {
     "data": {
      "text/plain": [
       "array([[11,  5,  6],\n",
       "       [ 8,  9, 10]])"
      ]
     },
     "execution_count": 59,
     "metadata": {},
     "output_type": "execute_result"
    }
   ],
   "source": [
    "findArr"
   ]
  },
  {
   "cell_type": "code",
   "execution_count": 60,
   "id": "dd1e4046-a896-4da7-b67b-c07d120e469c",
   "metadata": {},
   "outputs": [
    {
     "data": {
      "text/plain": [
       "(array([0, 0, 1, 1, 1], dtype=int64), array([0, 2, 0, 1, 2], dtype=int64))"
      ]
     },
     "execution_count": 60,
     "metadata": {},
     "output_type": "execute_result"
    }
   ],
   "source": [
    "np.where(findArr>5)  # First array is for row, second array is for colomn"
   ]
  },
  {
   "cell_type": "markdown",
   "id": "4c8b2488-438d-4a82-9472-207adf2de068",
   "metadata": {},
   "source": [
    "***Count non zero & Show***"
   ]
  },
  {
   "cell_type": "code",
   "execution_count": 101,
   "id": "8947e882-869c-4997-8030-caab4058a78b",
   "metadata": {},
   "outputs": [],
   "source": [
    "countArr = np.array([[2,3,0],[1,0,5],[6,7,10]])"
   ]
  },
  {
   "cell_type": "code",
   "execution_count": 102,
   "id": "ea4c31b2-8128-4d8a-b603-633b7d2d6a16",
   "metadata": {},
   "outputs": [
    {
     "data": {
      "text/plain": [
       "array([[ 2,  3,  0],\n",
       "       [ 1,  0,  5],\n",
       "       [ 6,  7, 10]])"
      ]
     },
     "execution_count": 102,
     "metadata": {},
     "output_type": "execute_result"
    }
   ],
   "source": [
    "countArr"
   ]
  },
  {
   "cell_type": "code",
   "execution_count": 103,
   "id": "b00f86ed-7b12-4dca-8ded-bd8f221d1748",
   "metadata": {},
   "outputs": [
    {
     "data": {
      "text/plain": [
       "7"
      ]
     },
     "execution_count": 103,
     "metadata": {},
     "output_type": "execute_result"
    }
   ],
   "source": [
    "np.count_nonzero(countArr)"
   ]
  },
  {
   "cell_type": "code",
   "execution_count": 64,
   "id": "7c899d74-3626-469e-8c1b-1a2d6f281f18",
   "metadata": {},
   "outputs": [
    {
     "data": {
      "text/plain": [
       "(array([0, 0, 1, 1, 1, 2, 2, 2], dtype=int64),\n",
       " array([0, 1, 0, 1, 2, 0, 1, 2], dtype=int64))"
      ]
     },
     "execution_count": 64,
     "metadata": {},
     "output_type": "execute_result"
    }
   ],
   "source": [
    "np.nonzero(countArr) # First array for row, second array for colomn"
   ]
  },
  {
   "cell_type": "markdown",
   "id": "b909dd95-a162-4c22-a9c9-2a5354774eab",
   "metadata": {},
   "source": [
    "# Axis "
   ]
  },
  {
   "cell_type": "code",
   "execution_count": 65,
   "id": "c13bacb1-c591-4ace-b616-0cb6ecde77e6",
   "metadata": {},
   "outputs": [],
   "source": [
    "axisArr1 = np.array ([[1,2,3],[4,5,6],[7,8,9]])"
   ]
  },
  {
   "cell_type": "code",
   "execution_count": 66,
   "id": "fa5a2aae-cf31-4843-a262-ce5ca1d9df80",
   "metadata": {},
   "outputs": [
    {
     "data": {
      "text/plain": [
       "array([[1, 2, 3],\n",
       "       [4, 5, 6],\n",
       "       [7, 8, 9]])"
      ]
     },
     "execution_count": 66,
     "metadata": {},
     "output_type": "execute_result"
    }
   ],
   "source": [
    "axisArr1"
   ]
  },
  {
   "cell_type": "markdown",
   "id": "2fb0c22f-e59e-4d7a-bce8-ee78accb3160",
   "metadata": {},
   "source": [
    "***Axis = 0***"
   ]
  },
  {
   "cell_type": "code",
   "execution_count": 67,
   "id": "c9a3c004-af83-4c97-af9d-7f8e3de44be0",
   "metadata": {},
   "outputs": [
    {
     "data": {
      "text/plain": [
       "array([12, 15, 18])"
      ]
     },
     "execution_count": 67,
     "metadata": {},
     "output_type": "execute_result"
    }
   ],
   "source": [
    "axisArr1.sum(axis=0) # axis=0 works on row\n",
    "                     # so in this example 1+4+7 = 12, 2+5+8 = 15, 3+6+9 = 18"
   ]
  },
  {
   "cell_type": "markdown",
   "id": "69ac5c7d-3ab1-461d-b7ed-1994a0313757",
   "metadata": {},
   "source": [
    "***Axis = 1***"
   ]
  },
  {
   "cell_type": "code",
   "execution_count": 68,
   "id": "ee0192bf-1ce7-4271-a359-42dafd1d3379",
   "metadata": {},
   "outputs": [
    {
     "data": {
      "text/plain": [
       "array([ 6, 15, 24])"
      ]
     },
     "execution_count": 68,
     "metadata": {},
     "output_type": "execute_result"
    }
   ],
   "source": [
    "axisArr1.sum(axis=1) # axis=1 works on colomn\n",
    "                     # so in this example 1+2+3 = 6, 4+5+6 = 15, 7+8+9 = 24"
   ]
  },
  {
   "cell_type": "markdown",
   "id": "70701c9d-f066-4c62-8421-51266fb23b5c",
   "metadata": {},
   "source": [
    "***Transpose***"
   ]
  },
  {
   "cell_type": "code",
   "execution_count": 69,
   "id": "ea7b730f-a778-4577-8cde-e35f78647e20",
   "metadata": {},
   "outputs": [
    {
     "data": {
      "text/plain": [
       "array([[1, 4, 7],\n",
       "       [2, 5, 8],\n",
       "       [3, 6, 9]])"
      ]
     },
     "execution_count": 69,
     "metadata": {},
     "output_type": "execute_result"
    }
   ],
   "source": [
    "axisArr1.T"
   ]
  },
  {
   "cell_type": "markdown",
   "id": "e1d7ba68-7a09-4d45-9622-a47d4242d291",
   "metadata": {},
   "source": [
    "***Flat*** # To have a Iterator"
   ]
  },
  {
   "cell_type": "code",
   "execution_count": 70,
   "id": "73d6b239-d569-4c0d-bfb2-e05afbf60271",
   "metadata": {},
   "outputs": [
    {
     "data": {
      "text/plain": [
       "<numpy.flatiter at 0x2457bec48c0>"
      ]
     },
     "execution_count": 70,
     "metadata": {},
     "output_type": "execute_result"
    }
   ],
   "source": [
    "axisArr1.flat"
   ]
  },
  {
   "cell_type": "code",
   "execution_count": 71,
   "id": "7c533072-7d48-4218-a4fe-f44f97827871",
   "metadata": {},
   "outputs": [
    {
     "name": "stdout",
     "output_type": "stream",
     "text": [
      "1\n",
      "2\n",
      "3\n",
      "4\n",
      "5\n",
      "6\n",
      "7\n",
      "8\n",
      "9\n"
     ]
    }
   ],
   "source": [
    "for i in axisArr1.flat:\n",
    "    print(i)"
   ]
  },
  {
   "cell_type": "markdown",
   "id": "cd03d91f-3e88-42ac-88b3-49e7dd49cd2a",
   "metadata": {},
   "source": [
    "***Max index using Axis***"
   ]
  },
  {
   "cell_type": "code",
   "execution_count": 72,
   "id": "19cd2e92-7c51-4bd5-b964-c1c8e19d15a8",
   "metadata": {},
   "outputs": [
    {
     "data": {
      "text/plain": [
       "array([[13, 11, 20],\n",
       "       [15,  5,  3],\n",
       "       [17, 27, 19]])"
      ]
     },
     "execution_count": 72,
     "metadata": {},
     "output_type": "execute_result"
    }
   ],
   "source": [
    "maxArr2"
   ]
  },
  {
   "cell_type": "code",
   "execution_count": 73,
   "id": "ffc4e97b-fded-4f6e-9233-7e28d27cc2c7",
   "metadata": {},
   "outputs": [
    {
     "data": {
      "text/plain": [
       "array([2, 2, 0], dtype=int64)"
      ]
     },
     "execution_count": 73,
     "metadata": {},
     "output_type": "execute_result"
    }
   ],
   "source": [
    "maxArr2.argmax(axis=0) # Represents 17,27,20 at colomn"
   ]
  },
  {
   "cell_type": "code",
   "execution_count": 74,
   "id": "78c3eb51-b437-45c4-86e7-70112de07bc9",
   "metadata": {},
   "outputs": [
    {
     "data": {
      "text/plain": [
       "array([2, 0, 1], dtype=int64)"
      ]
     },
     "execution_count": 74,
     "metadata": {},
     "output_type": "execute_result"
    }
   ],
   "source": [
    "maxArr2.argmax(axis=1) # Represents 13,15,27 at row"
   ]
  },
  {
   "cell_type": "markdown",
   "id": "e4329ca3-9e94-4628-ad0b-4f7126f860dd",
   "metadata": {},
   "source": [
    "***Min index using Axis***"
   ]
  },
  {
   "cell_type": "code",
   "execution_count": 75,
   "id": "f74d703f-6445-425b-bc15-392fccc1c1f0",
   "metadata": {},
   "outputs": [
    {
     "data": {
      "text/plain": [
       "array([[13, 11, 12],\n",
       "       [16, 14, 15],\n",
       "       [19, 17, 18]])"
      ]
     },
     "execution_count": 75,
     "metadata": {},
     "output_type": "execute_result"
    }
   ],
   "source": [
    "minArr2"
   ]
  },
  {
   "cell_type": "code",
   "execution_count": 76,
   "id": "d08d7cd7-6e68-4aad-b4f2-607e5c2443a2",
   "metadata": {},
   "outputs": [
    {
     "data": {
      "text/plain": [
       "array([0, 0, 0], dtype=int64)"
      ]
     },
     "execution_count": 76,
     "metadata": {},
     "output_type": "execute_result"
    }
   ],
   "source": [
    "minArr2.argmin(axis=0) # Represents 13,11,12 at colomn"
   ]
  },
  {
   "cell_type": "code",
   "execution_count": 77,
   "id": "e9f85d2c-bc2e-433f-9031-56d63014e6a9",
   "metadata": {},
   "outputs": [
    {
     "data": {
      "text/plain": [
       "array([1, 1, 1], dtype=int64)"
      ]
     },
     "execution_count": 77,
     "metadata": {},
     "output_type": "execute_result"
    }
   ],
   "source": [
    "minArr2.argmin(axis=1) # Represents 11,14,17 at row"
   ]
  },
  {
   "cell_type": "markdown",
   "id": "e7719ff1-66ed-44b5-aa12-5c56077de2a3",
   "metadata": {},
   "source": [
    "***Sorting using Axis***"
   ]
  },
  {
   "cell_type": "code",
   "execution_count": 78,
   "id": "cb8d09f6-9598-4920-8d96-ebc0a371c0bc",
   "metadata": {},
   "outputs": [],
   "source": [
    "sortAxisArray = np.array([[5,6,3],[25,51,66],[23,44,7]])"
   ]
  },
  {
   "cell_type": "code",
   "execution_count": 79,
   "id": "5f91cb9a-8adf-4bda-99e6-418050442eab",
   "metadata": {},
   "outputs": [
    {
     "data": {
      "text/plain": [
       "array([[ 5,  6,  3],\n",
       "       [25, 51, 66],\n",
       "       [23, 44,  7]])"
      ]
     },
     "execution_count": 79,
     "metadata": {},
     "output_type": "execute_result"
    }
   ],
   "source": [
    "sortAxisArray"
   ]
  },
  {
   "cell_type": "code",
   "execution_count": 80,
   "id": "c0beddb1-d7e8-46a2-810c-dd7686f8f00d",
   "metadata": {},
   "outputs": [
    {
     "data": {
      "text/plain": [
       "array([[0, 0, 0],\n",
       "       [2, 2, 2],\n",
       "       [1, 1, 1]], dtype=int64)"
      ]
     },
     "execution_count": 80,
     "metadata": {},
     "output_type": "execute_result"
    }
   ],
   "source": [
    "sortAxisArray.argsort(axis=0)"
   ]
  },
  {
   "cell_type": "code",
   "execution_count": 81,
   "id": "ec3ca123-782e-4232-ac14-a3e7bb0c58ec",
   "metadata": {},
   "outputs": [
    {
     "data": {
      "text/plain": [
       "array([[2, 0, 1],\n",
       "       [0, 1, 2],\n",
       "       [2, 0, 1]], dtype=int64)"
      ]
     },
     "execution_count": 81,
     "metadata": {},
     "output_type": "execute_result"
    }
   ],
   "source": [
    "sortAxisArray.argsort(axis=1)"
   ]
  },
  {
   "cell_type": "markdown",
   "id": "68300cf6-e9cf-4350-92ce-89856953152d",
   "metadata": {},
   "source": [
    "# Math"
   ]
  },
  {
   "cell_type": "code",
   "execution_count": 82,
   "id": "103350fc-9720-4256-9eb4-2646b4721fb3",
   "metadata": {},
   "outputs": [],
   "source": [
    "A = np.array([[1,2,5],[3,5,7],[6,8,11]])"
   ]
  },
  {
   "cell_type": "code",
   "execution_count": 83,
   "id": "50a6e680-1936-4b03-a7f0-45a00cb39d4c",
   "metadata": {},
   "outputs": [],
   "source": [
    "B = np.array([[3,4,7],[66,42,11],[6,8,10]])"
   ]
  },
  {
   "cell_type": "code",
   "execution_count": 84,
   "id": "0a340f70-4777-4d58-88fe-6020aad94f33",
   "metadata": {},
   "outputs": [],
   "source": [
    "sum = A+B"
   ]
  },
  {
   "cell_type": "code",
   "execution_count": 85,
   "id": "2a8fb961-0fb9-4916-bb77-a29a2a275a5b",
   "metadata": {},
   "outputs": [
    {
     "data": {
      "text/plain": [
       "array([[ 4,  6, 12],\n",
       "       [69, 47, 18],\n",
       "       [12, 16, 21]])"
      ]
     },
     "execution_count": 85,
     "metadata": {},
     "output_type": "execute_result"
    }
   ],
   "source": [
    "sum"
   ]
  },
  {
   "cell_type": "code",
   "execution_count": 86,
   "id": "84bda2d0-8203-4c4f-a7d2-1c79517b937d",
   "metadata": {},
   "outputs": [],
   "source": [
    "multiplication = A*B"
   ]
  },
  {
   "cell_type": "code",
   "execution_count": 87,
   "id": "c277514e-d20f-4f40-8b84-15aab46380b9",
   "metadata": {},
   "outputs": [
    {
     "data": {
      "text/plain": [
       "array([[  3,   8,  35],\n",
       "       [198, 210,  77],\n",
       "       [ 36,  64, 110]])"
      ]
     },
     "execution_count": 87,
     "metadata": {},
     "output_type": "execute_result"
    }
   ],
   "source": [
    "multiplication"
   ]
  },
  {
   "cell_type": "code",
   "execution_count": 88,
   "id": "a1675088-611d-4d79-994d-0a4fa13cd5a0",
   "metadata": {},
   "outputs": [
    {
     "data": {
      "text/plain": [
       "array([[1.        , 1.41421356, 2.23606798],\n",
       "       [1.73205081, 2.23606798, 2.64575131],\n",
       "       [2.44948974, 2.82842712, 3.31662479]])"
      ]
     },
     "execution_count": 88,
     "metadata": {},
     "output_type": "execute_result"
    }
   ],
   "source": [
    "np.sqrt(A)"
   ]
  },
  {
   "cell_type": "code",
   "execution_count": 89,
   "id": "4559a7b1-be65-4cfa-9a53-c2558f5255ae",
   "metadata": {},
   "outputs": [
    {
     "data": {
      "text/plain": [
       "48"
      ]
     },
     "execution_count": 89,
     "metadata": {},
     "output_type": "execute_result"
    }
   ],
   "source": [
    "A.sum()"
   ]
  },
  {
   "cell_type": "code",
   "execution_count": 90,
   "id": "67a74d6e-9907-42c3-aebb-578dedcce1c6",
   "metadata": {},
   "outputs": [
    {
     "data": {
      "text/plain": [
       "11"
      ]
     },
     "execution_count": 90,
     "metadata": {},
     "output_type": "execute_result"
    }
   ],
   "source": [
    "A.max()"
   ]
  },
  {
   "cell_type": "code",
   "execution_count": 91,
   "id": "f83b540c-7bf5-4c03-9f9b-0c3282d5e812",
   "metadata": {},
   "outputs": [
    {
     "data": {
      "text/plain": [
       "1"
      ]
     },
     "execution_count": 91,
     "metadata": {},
     "output_type": "execute_result"
    }
   ],
   "source": [
    "A.min()"
   ]
  },
  {
   "cell_type": "markdown",
   "id": "91e9ebca-aed8-4cf0-810d-ef163563c120",
   "metadata": {},
   "source": [
    "# Space"
   ]
  },
  {
   "cell_type": "code",
   "execution_count": 92,
   "id": "602cee5c-cdcb-47a0-b6c3-857a8044f249",
   "metadata": {},
   "outputs": [],
   "source": [
    "import sys"
   ]
  },
  {
   "cell_type": "code",
   "execution_count": 93,
   "id": "444b5c4a-b5a2-4547-853a-288ebc3db68e",
   "metadata": {},
   "outputs": [],
   "source": [
    "py_arr = [1,2,3,4,5]"
   ]
  },
  {
   "cell_type": "code",
   "execution_count": 94,
   "id": "a9b625d4-692c-4d66-9f0f-2f19b291bf57",
   "metadata": {},
   "outputs": [],
   "source": [
    "np_arr = np.array([4,5,6,7,8])"
   ]
  },
  {
   "cell_type": "code",
   "execution_count": 95,
   "id": "59088a1f-c323-4166-a3ac-a17e45861609",
   "metadata": {},
   "outputs": [
    {
     "data": {
      "text/plain": [
       "140"
      ]
     },
     "execution_count": 95,
     "metadata": {},
     "output_type": "execute_result"
    }
   ],
   "source": [
    "sys.getsizeof(1)*len(py_arr)"
   ]
  },
  {
   "cell_type": "code",
   "execution_count": 96,
   "id": "15935544-5b80-429d-8821-a48e3449e099",
   "metadata": {},
   "outputs": [
    {
     "data": {
      "text/plain": [
       "20"
      ]
     },
     "execution_count": 96,
     "metadata": {},
     "output_type": "execute_result"
    }
   ],
   "source": [
    "np_arr.itemsize*np_arr.size"
   ]
  },
  {
   "cell_type": "code",
   "execution_count": null,
   "id": "e3ca6222-5dc6-464a-8ac6-b44f65a1d1e2",
   "metadata": {},
   "outputs": [],
   "source": []
  }
 ],
 "metadata": {
  "kernelspec": {
   "display_name": "Python 3 (ipykernel)",
   "language": "python",
   "name": "python3"
  },
  "language_info": {
   "codemirror_mode": {
    "name": "ipython",
    "version": 3
   },
   "file_extension": ".py",
   "mimetype": "text/x-python",
   "name": "python",
   "nbconvert_exporter": "python",
   "pygments_lexer": "ipython3",
   "version": "3.9.0rc2"
  }
 },
 "nbformat": 4,
 "nbformat_minor": 5
}
